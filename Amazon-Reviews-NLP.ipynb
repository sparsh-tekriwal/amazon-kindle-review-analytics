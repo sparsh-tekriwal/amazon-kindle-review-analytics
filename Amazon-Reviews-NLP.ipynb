{
 "cells": [
  {
   "cell_type": "code",
   "execution_count": 1,
   "metadata": {},
   "outputs": [
    {
     "name": "stdout",
     "output_type": "stream",
     "text": [
      "Name: Sparsh Tekriwal \n",
      "Andrew ID: sparsht\n"
     ]
    }
   ],
   "source": [
    "print(\"Name: {} \\nAndrew ID: {}\".format(\"Sparsh Tekriwal\", \"sparsht\"))"
   ]
  },
  {
   "cell_type": "markdown",
   "metadata": {},
   "source": [
    "In this notebook, I will analyze a set of reviews extracted from Amazon’s reviews for attributes of the Kindle that customers viewed positively and negatively, and will build a model to predict 5-star ratings based on the text in the review, and identify attributes of the reviews themselves that lead to other customers finding that review helpful."
   ]
  },
  {
   "cell_type": "code",
   "execution_count": 2,
   "metadata": {},
   "outputs": [
    {
     "name": "stderr",
     "output_type": "stream",
     "text": [
      "/Users/sparshtekriwal/opt/anaconda3/lib/python3.7/site-packages/statsmodels/tools/_testing.py:19: FutureWarning: pandas.util.testing is deprecated. Use the functions in the public API at pandas.testing instead.\n",
      "  import pandas.util.testing as tm\n"
     ]
    }
   ],
   "source": [
    "import pandas as pd\n",
    "import numpy as np\n",
    "import matplotlib.pyplot as plt\n",
    "import seaborn as sns"
   ]
  },
  {
   "cell_type": "code",
   "execution_count": 3,
   "metadata": {},
   "outputs": [],
   "source": [
    "df = pd.read_csv(\"kindle_reviews.csv\", encoding='unicode_escape')"
   ]
  },
  {
   "cell_type": "code",
   "execution_count": 4,
   "metadata": {},
   "outputs": [
    {
     "data": {
      "text/html": [
       "<div>\n",
       "<style scoped>\n",
       "    .dataframe tbody tr th:only-of-type {\n",
       "        vertical-align: middle;\n",
       "    }\n",
       "\n",
       "    .dataframe tbody tr th {\n",
       "        vertical-align: top;\n",
       "    }\n",
       "\n",
       "    .dataframe thead th {\n",
       "        text-align: right;\n",
       "    }\n",
       "</style>\n",
       "<table border=\"1\" class=\"dataframe\">\n",
       "  <thead>\n",
       "    <tr style=\"text-align: right;\">\n",
       "      <th></th>\n",
       "      <th>id</th>\n",
       "      <th>dateAdded</th>\n",
       "      <th>dateUpdated</th>\n",
       "      <th>name</th>\n",
       "      <th>asins</th>\n",
       "      <th>brand</th>\n",
       "      <th>categories</th>\n",
       "      <th>primaryCategories</th>\n",
       "      <th>imageURLs</th>\n",
       "      <th>keys</th>\n",
       "      <th>...</th>\n",
       "      <th>reviews.dateSeen</th>\n",
       "      <th>reviews.didPurchase</th>\n",
       "      <th>reviews.doRecommend</th>\n",
       "      <th>reviews.id</th>\n",
       "      <th>reviews.numHelpful</th>\n",
       "      <th>reviews.rating</th>\n",
       "      <th>reviews.sourceURLs</th>\n",
       "      <th>reviews.text</th>\n",
       "      <th>reviews.title</th>\n",
       "      <th>reviews.username</th>\n",
       "    </tr>\n",
       "  </thead>\n",
       "  <tbody>\n",
       "    <tr>\n",
       "      <th>0</th>\n",
       "      <td>AVphPmHuilAPnD_x3E5h</td>\n",
       "      <td>2016-03-31T21:08:24Z</td>\n",
       "      <td>2019-03-12T04:21:17Z</td>\n",
       "      <td>Kindle Voyage E-reader, 6 High-Resolution Disp...</td>\n",
       "      <td>B00IOY8XWQ</td>\n",
       "      <td>Amazon</td>\n",
       "      <td>eBook Readers,Electronics Features,Walmart for...</td>\n",
       "      <td>Electronics</td>\n",
       "      <td>https://images-na.ssl-images-amazon.com/images...</td>\n",
       "      <td>amazon/b00ioy8xwq,848719040104,kindlevoyageere...</td>\n",
       "      <td>...</td>\n",
       "      <td>2017-07-07T00:00:00Z,2018-05-28T00:00:00Z,2017...</td>\n",
       "      <td>NaN</td>\n",
       "      <td>True</td>\n",
       "      <td>NaN</td>\n",
       "      <td>0</td>\n",
       "      <td>5</td>\n",
       "      <td>https://reviews.bestbuy.com/3545/9302088/revie...</td>\n",
       "      <td>I bought this so i can save all of my books. I...</td>\n",
       "      <td>A bit small, but very useful!!</td>\n",
       "      <td>Goldfish</td>\n",
       "    </tr>\n",
       "    <tr>\n",
       "      <th>1</th>\n",
       "      <td>AVphPmHuilAPnD_x3E5h</td>\n",
       "      <td>2016-03-31T21:08:24Z</td>\n",
       "      <td>2019-03-12T04:21:17Z</td>\n",
       "      <td>Kindle Voyage E-reader, 6 High-Resolution Disp...</td>\n",
       "      <td>B00IOY8XWQ</td>\n",
       "      <td>Amazon</td>\n",
       "      <td>eBook Readers,Electronics Features,Walmart for...</td>\n",
       "      <td>Electronics</td>\n",
       "      <td>https://images-na.ssl-images-amazon.com/images...</td>\n",
       "      <td>amazon/b00ioy8xwq,848719040104,kindlevoyageere...</td>\n",
       "      <td>...</td>\n",
       "      <td>2017-07-07T00:00:00Z,2018-05-28T00:00:00Z,2017...</td>\n",
       "      <td>NaN</td>\n",
       "      <td>True</td>\n",
       "      <td>NaN</td>\n",
       "      <td>0</td>\n",
       "      <td>5</td>\n",
       "      <td>http://reviews.bestbuy.com/3545/9302088/review...</td>\n",
       "      <td>I bought this as a gift. I think it is pretty ...</td>\n",
       "      <td>a decent gift</td>\n",
       "      <td>Zigpig</td>\n",
       "    </tr>\n",
       "  </tbody>\n",
       "</table>\n",
       "<p>2 rows × 23 columns</p>\n",
       "</div>"
      ],
      "text/plain": [
       "                     id             dateAdded           dateUpdated  \\\n",
       "0  AVphPmHuilAPnD_x3E5h  2016-03-31T21:08:24Z  2019-03-12T04:21:17Z   \n",
       "1  AVphPmHuilAPnD_x3E5h  2016-03-31T21:08:24Z  2019-03-12T04:21:17Z   \n",
       "\n",
       "                                                name       asins   brand  \\\n",
       "0  Kindle Voyage E-reader, 6 High-Resolution Disp...  B00IOY8XWQ  Amazon   \n",
       "1  Kindle Voyage E-reader, 6 High-Resolution Disp...  B00IOY8XWQ  Amazon   \n",
       "\n",
       "                                          categories primaryCategories  \\\n",
       "0  eBook Readers,Electronics Features,Walmart for...       Electronics   \n",
       "1  eBook Readers,Electronics Features,Walmart for...       Electronics   \n",
       "\n",
       "                                           imageURLs  \\\n",
       "0  https://images-na.ssl-images-amazon.com/images...   \n",
       "1  https://images-na.ssl-images-amazon.com/images...   \n",
       "\n",
       "                                                keys  ...  \\\n",
       "0  amazon/b00ioy8xwq,848719040104,kindlevoyageere...  ...   \n",
       "1  amazon/b00ioy8xwq,848719040104,kindlevoyageere...  ...   \n",
       "\n",
       "                                    reviews.dateSeen reviews.didPurchase  \\\n",
       "0  2017-07-07T00:00:00Z,2018-05-28T00:00:00Z,2017...                 NaN   \n",
       "1  2017-07-07T00:00:00Z,2018-05-28T00:00:00Z,2017...                 NaN   \n",
       "\n",
       "  reviews.doRecommend reviews.id  reviews.numHelpful  reviews.rating  \\\n",
       "0                True        NaN                   0               5   \n",
       "1                True        NaN                   0               5   \n",
       "\n",
       "                                  reviews.sourceURLs  \\\n",
       "0  https://reviews.bestbuy.com/3545/9302088/revie...   \n",
       "1  http://reviews.bestbuy.com/3545/9302088/review...   \n",
       "\n",
       "                                        reviews.text  \\\n",
       "0  I bought this so i can save all of my books. I...   \n",
       "1  I bought this as a gift. I think it is pretty ...   \n",
       "\n",
       "                    reviews.title reviews.username  \n",
       "0  A bit small, but very useful!!         Goldfish  \n",
       "1                   a decent gift           Zigpig  \n",
       "\n",
       "[2 rows x 23 columns]"
      ]
     },
     "execution_count": 4,
     "metadata": {},
     "output_type": "execute_result"
    }
   ],
   "source": [
    "df.head(2)"
   ]
  },
  {
   "cell_type": "code",
   "execution_count": 5,
   "metadata": {},
   "outputs": [
    {
     "data": {
      "text/plain": [
       "(844, 23)"
      ]
     },
     "execution_count": 5,
     "metadata": {},
     "output_type": "execute_result"
    }
   ],
   "source": [
    "df.shape"
   ]
  },
  {
   "cell_type": "code",
   "execution_count": 6,
   "metadata": {},
   "outputs": [
    {
     "name": "stdout",
     "output_type": "stream",
     "text": [
      "<class 'pandas.core.frame.DataFrame'>\n",
      "RangeIndex: 844 entries, 0 to 843\n",
      "Data columns (total 23 columns):\n",
      " #   Column               Non-Null Count  Dtype  \n",
      "---  ------               --------------  -----  \n",
      " 0   id                   844 non-null    object \n",
      " 1   dateAdded            844 non-null    object \n",
      " 2   dateUpdated          844 non-null    object \n",
      " 3   name                 844 non-null    object \n",
      " 4   asins                844 non-null    object \n",
      " 5   brand                844 non-null    object \n",
      " 6   categories           844 non-null    object \n",
      " 7   primaryCategories    844 non-null    object \n",
      " 8   imageURLs            844 non-null    object \n",
      " 9   keys                 844 non-null    object \n",
      " 10  manufacturer         844 non-null    object \n",
      " 11  manufacturerNumber   844 non-null    object \n",
      " 12  reviews.date         844 non-null    object \n",
      " 13  reviews.dateSeen     844 non-null    object \n",
      " 14  reviews.didPurchase  0 non-null      float64\n",
      " 15  reviews.doRecommend  844 non-null    bool   \n",
      " 16  reviews.id           0 non-null      float64\n",
      " 17  reviews.numHelpful   844 non-null    int64  \n",
      " 18  reviews.rating       844 non-null    int64  \n",
      " 19  reviews.sourceURLs   844 non-null    object \n",
      " 20  reviews.text         844 non-null    object \n",
      " 21  reviews.title        844 non-null    object \n",
      " 22  reviews.username     844 non-null    object \n",
      "dtypes: bool(1), float64(2), int64(2), object(18)\n",
      "memory usage: 146.0+ KB\n"
     ]
    }
   ],
   "source": [
    "df.info()"
   ]
  },
  {
   "cell_type": "markdown",
   "metadata": {},
   "source": [
    "Lets drop columns reviews.didPurchase and reviews.id as they are completely null"
   ]
  },
  {
   "cell_type": "code",
   "execution_count": 7,
   "metadata": {},
   "outputs": [],
   "source": [
    "df.drop([\"reviews.didPurchase\", \"reviews.id\"], axis=1, inplace=True)"
   ]
  },
  {
   "cell_type": "code",
   "execution_count": 8,
   "metadata": {},
   "outputs": [
    {
     "data": {
      "text/html": [
       "<div>\n",
       "<style scoped>\n",
       "    .dataframe tbody tr th:only-of-type {\n",
       "        vertical-align: middle;\n",
       "    }\n",
       "\n",
       "    .dataframe tbody tr th {\n",
       "        vertical-align: top;\n",
       "    }\n",
       "\n",
       "    .dataframe thead th {\n",
       "        text-align: right;\n",
       "    }\n",
       "</style>\n",
       "<table border=\"1\" class=\"dataframe\">\n",
       "  <thead>\n",
       "    <tr style=\"text-align: right;\">\n",
       "      <th></th>\n",
       "      <th>count</th>\n",
       "      <th>mean</th>\n",
       "      <th>std</th>\n",
       "      <th>min</th>\n",
       "      <th>25%</th>\n",
       "      <th>50%</th>\n",
       "      <th>75%</th>\n",
       "      <th>max</th>\n",
       "    </tr>\n",
       "  </thead>\n",
       "  <tbody>\n",
       "    <tr>\n",
       "      <th>reviews.numHelpful</th>\n",
       "      <td>844.0</td>\n",
       "      <td>1.668246</td>\n",
       "      <td>4.673835</td>\n",
       "      <td>0.0</td>\n",
       "      <td>0.0</td>\n",
       "      <td>0.0</td>\n",
       "      <td>1.0</td>\n",
       "      <td>72.0</td>\n",
       "    </tr>\n",
       "    <tr>\n",
       "      <th>reviews.rating</th>\n",
       "      <td>844.0</td>\n",
       "      <td>4.689573</td>\n",
       "      <td>0.652278</td>\n",
       "      <td>1.0</td>\n",
       "      <td>5.0</td>\n",
       "      <td>5.0</td>\n",
       "      <td>5.0</td>\n",
       "      <td>5.0</td>\n",
       "    </tr>\n",
       "  </tbody>\n",
       "</table>\n",
       "</div>"
      ],
      "text/plain": [
       "                    count      mean       std  min  25%  50%  75%   max\n",
       "reviews.numHelpful  844.0  1.668246  4.673835  0.0  0.0  0.0  1.0  72.0\n",
       "reviews.rating      844.0  4.689573  0.652278  1.0  5.0  5.0  5.0   5.0"
      ]
     },
     "execution_count": 8,
     "metadata": {},
     "output_type": "execute_result"
    }
   ],
   "source": [
    "df.describe(include=['int64','float']).transpose()"
   ]
  },
  {
   "cell_type": "code",
   "execution_count": 9,
   "metadata": {},
   "outputs": [
    {
     "data": {
      "text/html": [
       "<div>\n",
       "<style scoped>\n",
       "    .dataframe tbody tr th:only-of-type {\n",
       "        vertical-align: middle;\n",
       "    }\n",
       "\n",
       "    .dataframe tbody tr th {\n",
       "        vertical-align: top;\n",
       "    }\n",
       "\n",
       "    .dataframe thead th {\n",
       "        text-align: right;\n",
       "    }\n",
       "</style>\n",
       "<table border=\"1\" class=\"dataframe\">\n",
       "  <thead>\n",
       "    <tr style=\"text-align: right;\">\n",
       "      <th></th>\n",
       "      <th>count</th>\n",
       "      <th>unique</th>\n",
       "      <th>top</th>\n",
       "      <th>freq</th>\n",
       "    </tr>\n",
       "  </thead>\n",
       "  <tbody>\n",
       "    <tr>\n",
       "      <th>reviews.doRecommend</th>\n",
       "      <td>844</td>\n",
       "      <td>2</td>\n",
       "      <td>True</td>\n",
       "      <td>815</td>\n",
       "    </tr>\n",
       "  </tbody>\n",
       "</table>\n",
       "</div>"
      ],
      "text/plain": [
       "                    count unique   top freq\n",
       "reviews.doRecommend   844      2  True  815"
      ]
     },
     "execution_count": 9,
     "metadata": {},
     "output_type": "execute_result"
    }
   ],
   "source": [
    "df.describe(include=['boolean']).transpose()"
   ]
  },
  {
   "cell_type": "code",
   "execution_count": 10,
   "metadata": {},
   "outputs": [
    {
     "data": {
      "text/html": [
       "<div>\n",
       "<style scoped>\n",
       "    .dataframe tbody tr th:only-of-type {\n",
       "        vertical-align: middle;\n",
       "    }\n",
       "\n",
       "    .dataframe tbody tr th {\n",
       "        vertical-align: top;\n",
       "    }\n",
       "\n",
       "    .dataframe thead th {\n",
       "        text-align: right;\n",
       "    }\n",
       "</style>\n",
       "<table border=\"1\" class=\"dataframe\">\n",
       "  <thead>\n",
       "    <tr style=\"text-align: right;\">\n",
       "      <th></th>\n",
       "      <th>count</th>\n",
       "      <th>unique</th>\n",
       "      <th>top</th>\n",
       "      <th>freq</th>\n",
       "    </tr>\n",
       "  </thead>\n",
       "  <tbody>\n",
       "    <tr>\n",
       "      <th>id</th>\n",
       "      <td>844</td>\n",
       "      <td>9</td>\n",
       "      <td>AVphPmHuilAPnD_x3E5h</td>\n",
       "      <td>505</td>\n",
       "    </tr>\n",
       "    <tr>\n",
       "      <th>dateAdded</th>\n",
       "      <td>844</td>\n",
       "      <td>6</td>\n",
       "      <td>2016-03-31T21:08:24Z</td>\n",
       "      <td>505</td>\n",
       "    </tr>\n",
       "    <tr>\n",
       "      <th>dateUpdated</th>\n",
       "      <td>844</td>\n",
       "      <td>7</td>\n",
       "      <td>2019-03-12T04:21:17Z</td>\n",
       "      <td>505</td>\n",
       "    </tr>\n",
       "    <tr>\n",
       "      <th>name</th>\n",
       "      <td>844</td>\n",
       "      <td>9</td>\n",
       "      <td>Kindle Voyage E-reader, 6 High-Resolution Disp...</td>\n",
       "      <td>505</td>\n",
       "    </tr>\n",
       "    <tr>\n",
       "      <th>asins</th>\n",
       "      <td>844</td>\n",
       "      <td>9</td>\n",
       "      <td>B00IOY8XWQ</td>\n",
       "      <td>505</td>\n",
       "    </tr>\n",
       "    <tr>\n",
       "      <th>brand</th>\n",
       "      <td>844</td>\n",
       "      <td>1</td>\n",
       "      <td>Amazon</td>\n",
       "      <td>844</td>\n",
       "    </tr>\n",
       "    <tr>\n",
       "      <th>categories</th>\n",
       "      <td>844</td>\n",
       "      <td>8</td>\n",
       "      <td>eBook Readers,Electronics Features,Walmart for...</td>\n",
       "      <td>505</td>\n",
       "    </tr>\n",
       "    <tr>\n",
       "      <th>primaryCategories</th>\n",
       "      <td>844</td>\n",
       "      <td>3</td>\n",
       "      <td>Electronics</td>\n",
       "      <td>560</td>\n",
       "    </tr>\n",
       "    <tr>\n",
       "      <th>imageURLs</th>\n",
       "      <td>844</td>\n",
       "      <td>9</td>\n",
       "      <td>https://images-na.ssl-images-amazon.com/images...</td>\n",
       "      <td>505</td>\n",
       "    </tr>\n",
       "    <tr>\n",
       "      <th>keys</th>\n",
       "      <td>844</td>\n",
       "      <td>9</td>\n",
       "      <td>amazon/b00ioy8xwq,848719040104,kindlevoyageere...</td>\n",
       "      <td>505</td>\n",
       "    </tr>\n",
       "    <tr>\n",
       "      <th>manufacturer</th>\n",
       "      <td>844</td>\n",
       "      <td>1</td>\n",
       "      <td>Amazon</td>\n",
       "      <td>844</td>\n",
       "    </tr>\n",
       "    <tr>\n",
       "      <th>manufacturerNumber</th>\n",
       "      <td>844</td>\n",
       "      <td>9</td>\n",
       "      <td>53-002680</td>\n",
       "      <td>505</td>\n",
       "    </tr>\n",
       "    <tr>\n",
       "      <th>reviews.date</th>\n",
       "      <td>844</td>\n",
       "      <td>422</td>\n",
       "      <td>2017-02-24T00:00:00.000Z</td>\n",
       "      <td>14</td>\n",
       "    </tr>\n",
       "    <tr>\n",
       "      <th>reviews.dateSeen</th>\n",
       "      <td>844</td>\n",
       "      <td>112</td>\n",
       "      <td>2017-07-07T00:00:00Z,2018-05-28T00:00:00Z,2017...</td>\n",
       "      <td>363</td>\n",
       "    </tr>\n",
       "    <tr>\n",
       "      <th>reviews.sourceURLs</th>\n",
       "      <td>844</td>\n",
       "      <td>570</td>\n",
       "      <td>http://reviews.bestbuy.com/3545/5195001/review...</td>\n",
       "      <td>9</td>\n",
       "    </tr>\n",
       "    <tr>\n",
       "      <th>reviews.text</th>\n",
       "      <td>844</td>\n",
       "      <td>741</td>\n",
       "      <td>Excellent reader night or day, sunshine or sha...</td>\n",
       "      <td>3</td>\n",
       "    </tr>\n",
       "    <tr>\n",
       "      <th>reviews.title</th>\n",
       "      <td>844</td>\n",
       "      <td>619</td>\n",
       "      <td>Love it</td>\n",
       "      <td>11</td>\n",
       "    </tr>\n",
       "    <tr>\n",
       "      <th>reviews.username</th>\n",
       "      <td>844</td>\n",
       "      <td>701</td>\n",
       "      <td>Chris</td>\n",
       "      <td>7</td>\n",
       "    </tr>\n",
       "  </tbody>\n",
       "</table>\n",
       "</div>"
      ],
      "text/plain": [
       "                   count unique  \\\n",
       "id                   844      9   \n",
       "dateAdded            844      6   \n",
       "dateUpdated          844      7   \n",
       "name                 844      9   \n",
       "asins                844      9   \n",
       "brand                844      1   \n",
       "categories           844      8   \n",
       "primaryCategories    844      3   \n",
       "imageURLs            844      9   \n",
       "keys                 844      9   \n",
       "manufacturer         844      1   \n",
       "manufacturerNumber   844      9   \n",
       "reviews.date         844    422   \n",
       "reviews.dateSeen     844    112   \n",
       "reviews.sourceURLs   844    570   \n",
       "reviews.text         844    741   \n",
       "reviews.title        844    619   \n",
       "reviews.username     844    701   \n",
       "\n",
       "                                                                  top freq  \n",
       "id                                               AVphPmHuilAPnD_x3E5h  505  \n",
       "dateAdded                                        2016-03-31T21:08:24Z  505  \n",
       "dateUpdated                                      2019-03-12T04:21:17Z  505  \n",
       "name                Kindle Voyage E-reader, 6 High-Resolution Disp...  505  \n",
       "asins                                                      B00IOY8XWQ  505  \n",
       "brand                                                          Amazon  844  \n",
       "categories          eBook Readers,Electronics Features,Walmart for...  505  \n",
       "primaryCategories                                         Electronics  560  \n",
       "imageURLs           https://images-na.ssl-images-amazon.com/images...  505  \n",
       "keys                amazon/b00ioy8xwq,848719040104,kindlevoyageere...  505  \n",
       "manufacturer                                                   Amazon  844  \n",
       "manufacturerNumber                                          53-002680  505  \n",
       "reviews.date                                 2017-02-24T00:00:00.000Z   14  \n",
       "reviews.dateSeen    2017-07-07T00:00:00Z,2018-05-28T00:00:00Z,2017...  363  \n",
       "reviews.sourceURLs  http://reviews.bestbuy.com/3545/5195001/review...    9  \n",
       "reviews.text        Excellent reader night or day, sunshine or sha...    3  \n",
       "reviews.title                                                 Love it   11  \n",
       "reviews.username                                                Chris    7  "
      ]
     },
     "execution_count": 10,
     "metadata": {},
     "output_type": "execute_result"
    }
   ],
   "source": [
    "df.describe(include=['object']).transpose()"
   ]
  },
  {
   "cell_type": "markdown",
   "metadata": {},
   "source": [
    "## Task 1"
   ]
  },
  {
   "cell_type": "code",
   "execution_count": 11,
   "metadata": {},
   "outputs": [
    {
     "name": "stdout",
     "output_type": "stream",
     "text": [
      "True     815\n",
      "False     29\n",
      "Name: reviews.doRecommend, dtype: int64\n"
     ]
    },
    {
     "data": {
      "image/png": "[encoded data removed]",
      "text/plain": [
       "<Figure size 720x504 with 1 Axes>"
      ]
     },
     "metadata": {
      "needs_background": "light"
     },
     "output_type": "display_data"
    }
   ],
   "source": [
    "# Exploring Column reviews.doRecommend\n",
    "df['reviews.doRecommend']\n",
    "print(df['reviews.doRecommend'].value_counts())\n",
    "\n",
    "plt.figure(figsize= (10,7))\n",
    "sns.countplot(df['reviews.doRecommend'])\n",
    "plt.title('Histogram of doRecommend')\n",
    "plt.show()"
   ]
  },
  {
   "cell_type": "code",
   "execution_count": 12,
   "metadata": {},
   "outputs": [
    {
     "name": "stdout",
     "output_type": "stream",
     "text": [
      "count    844.000000\n",
      "mean       4.689573\n",
      "std        0.652278\n",
      "min        1.000000\n",
      "25%        5.000000\n",
      "50%        5.000000\n",
      "75%        5.000000\n",
      "max        5.000000\n",
      "Name: reviews.rating, dtype: float64\n",
      "\n",
      "Value Counts\n",
      "5    642\n",
      "4    164\n",
      "3     23\n",
      "2      8\n",
      "1      7\n",
      "Name: reviews.rating, dtype: int64\n"
     ]
    },
    {
     "data": {
      "image/png": "[encoded data removed]",
      "text/plain": [
       "<Figure size 720x504 with 1 Axes>"
      ]
     },
     "metadata": {
      "needs_background": "light"
     },
     "output_type": "display_data"
    }
   ],
   "source": [
    "# Exploring Column 'reviews.rating'\n",
    "col_reviewsRating = df.loc[:, 'reviews.rating']\n",
    "print(col_reviewsRating.describe())\n",
    "print()\n",
    "\n",
    "print(\"Value Counts\")\n",
    "print(df['reviews.rating'].value_counts())\n",
    "\n",
    "plt.figure(figsize= (10,7))\n",
    "sns.countplot(df['reviews.rating'])\n",
    "plt.title('Histogram of review ratings')\n",
    "plt.show()"
   ]
  },
  {
   "cell_type": "code",
   "execution_count": 13,
   "metadata": {},
   "outputs": [
    {
     "name": "stdout",
     "output_type": "stream",
     "text": [
      "count    844.000000\n",
      "mean       1.668246\n",
      "std        4.673835\n",
      "min        0.000000\n",
      "25%        0.000000\n",
      "50%        0.000000\n",
      "75%        1.000000\n",
      "max       72.000000\n",
      "Name: reviews.numHelpful, dtype: float64\n",
      "\n",
      "Value Counts\n",
      "0     495\n",
      "1     152\n",
      "2      50\n",
      "3      38\n",
      "5      20\n",
      "4      18\n",
      "6      15\n",
      "8      14\n",
      "7      11\n",
      "9       6\n",
      "10      4\n",
      "11      3\n",
      "16      3\n",
      "19      2\n",
      "72      1\n",
      "12      1\n",
      "49      1\n",
      "14      1\n",
      "15      1\n",
      "18      1\n",
      "23      1\n",
      "25      1\n",
      "27      1\n",
      "35      1\n",
      "36      1\n",
      "39      1\n",
      "13      1\n",
      "Name: reviews.numHelpful, dtype: int64\n"
     ]
    },
    {
     "data": {
      "image/png": "[encoded data removed]",
      "text/plain": [
       "<Figure size 720x504 with 1 Axes>"
      ]
     },
     "metadata": {
      "needs_background": "light"
     },
     "output_type": "display_data"
    }
   ],
   "source": [
    "# Exploring Column 'reviews.numHelpful'\n",
    "col_numHelpful = df.loc[:, 'reviews.numHelpful']\n",
    "print(col_numHelpful.describe())\n",
    "print()\n",
    "\n",
    "print(\"Value Counts\")\n",
    "print(df['reviews.numHelpful'].value_counts())\n",
    "\n",
    "plt.figure(figsize= (10,7))\n",
    "sns.countplot(df['reviews.numHelpful'])\n",
    "plt.title('Histogram of numHelpful')\n",
    "plt.show()"
   ]
  },
  {
   "cell_type": "markdown",
   "metadata": {},
   "source": [
    "Q. Do you see any issues in using these fields as outcome (target) variables?\n",
    "\n",
    "Yes. I see two main issues:\n",
    "\n",
    "- The doRecommend column has boolean values and will need to be binarized before it can be fed into a classification algorithm such as Logistic Regression\n",
    "\n",
    "- The ratings and doRecommend columns have multiple classes that are highly imbalanced. We might need to use an algirithm like SMOTE to reduce biases due to this class imbalance"
   ]
  },
  {
   "cell_type": "markdown",
   "metadata": {},
   "source": [
    "## Task 2\n",
    "Prepare the text of the reviews in the reviews.text field for analysis by eliminating stopwords. What are the top 10 mostfrequent words? What are the top 10 nouns? What are the top ten adjectives?"
   ]
  },
  {
   "cell_type": "code",
   "execution_count": 14,
   "metadata": {},
   "outputs": [],
   "source": [
    "from nltk.tokenize import sent_tokenize\n",
    "from nltk.tokenize import word_tokenize\n",
    "import nltk\n",
    "from nltk.corpus import stopwords\n",
    "from nltk.stem import WordNetLemmatizer \n",
    "import string\n",
    "\n",
    "# nltk.download('stopwords')\n",
    "    \n",
    "stop = stopwords.words('english')"
   ]
  },
  {
   "cell_type": "code",
   "execution_count": 15,
   "metadata": {},
   "outputs": [],
   "source": [
    "df[\"reviews.cleanText\"] = df[\"reviews.text\"].apply(lambda x: \" \". join([WordNetLemmatizer().lemmatize(word.lower()) \n",
    "                                    for word in word_tokenize(x) \n",
    "                                    if word.lower() not in stop \n",
    "                                    and word not in list(string.punctuation) \n",
    "                                    and len(word)>2]))\n",
    "# .str.replace('[^\\w\\s]','')"
   ]
  },
  {
   "cell_type": "markdown",
   "metadata": {},
   "source": [
    "### 10 most frequent words"
   ]
  },
  {
   "cell_type": "code",
   "execution_count": 16,
   "metadata": {},
   "outputs": [
    {
     "data": {
      "text/plain": [
       "[('kindle', 618),\n",
       " ('love', 269),\n",
       " ('light', 260),\n",
       " ('great', 237),\n",
       " ('reading', 232),\n",
       " ('screen', 232),\n",
       " ('voyage', 227),\n",
       " ('read', 227),\n",
       " ('one', 213),\n",
       " ('easy', 205)]"
      ]
     },
     "execution_count": 16,
     "metadata": {},
     "output_type": "execute_result"
    }
   ],
   "source": [
    "#Reference : https://stackoverflow.com/questions/29903025/count-most-frequent-100-words-from-sentences-in-dataframe-pandas\n",
    "from collections import Counter\n",
    "Counter(\" \".join(df[\"reviews.cleanText\"]).split()).most_common(10)\n"
   ]
  },
  {
   "cell_type": "code",
   "execution_count": 17,
   "metadata": {},
   "outputs": [
    {
     "data": {
      "image/png": "[encoded data removed]",
      "text/plain": [
       "<Figure size 1152x648 with 1 Axes>"
      ]
     },
     "metadata": {
      "needs_background": "light"
     },
     "output_type": "display_data"
    }
   ],
   "source": [
    "from wordcloud import WordCloud\n",
    "wordcloud = WordCloud(background_color=\"black\", max_words=300).generate(\" \".join(df[\"reviews.cleanText\"]))\n",
    "plt.figure(figsize=(16,9))\n",
    "plt.clf()\n",
    "plt.imshow(wordcloud)\n",
    "plt.axis(\"off\")\n",
    "plt.show()"
   ]
  },
  {
   "cell_type": "markdown",
   "metadata": {},
   "source": [
    "### Top 10 Nouns"
   ]
  },
  {
   "cell_type": "code",
   "execution_count": 18,
   "metadata": {},
   "outputs": [
    {
     "data": {
      "text/plain": [
       "[('voyage', 217),\n",
       " ('book', 194),\n",
       " ('page', 194),\n",
       " ('kindle', 176),\n",
       " ('reader', 146),\n",
       " ('screen', 144),\n",
       " ('battery', 140),\n",
       " ('device', 138),\n",
       " ('oasis', 125),\n",
       " ('use', 123)]"
      ]
     },
     "execution_count": 18,
     "metadata": {},
     "output_type": "execute_result"
    }
   ],
   "source": [
    "from nltk.tag import pos_tag\n",
    "nouns = [tup[0] for tup in pos_tag(\" \".join(df[\"reviews.cleanText\"]).split(\" \")) if tup[1] == 'NN' or tup[1] =='NNS' or tup[1] == 'NNP' or tup[1] == 'NNPS']\n",
    "Counter(nouns).most_common(10)                                                                                                                                   "
   ]
  },
  {
   "cell_type": "markdown",
   "metadata": {},
   "source": [
    "### Top 10 Adjectives"
   ]
  },
  {
   "cell_type": "code",
   "execution_count": 19,
   "metadata": {},
   "outputs": [
    {
     "data": {
      "text/plain": [
       "[('kindle', 308),\n",
       " ('great', 237),\n",
       " ('easy', 201),\n",
       " ('light', 164),\n",
       " ('best', 133),\n",
       " ('new', 113),\n",
       " ('screen', 82),\n",
       " ('good', 81),\n",
       " ('paperwhite', 77),\n",
       " ('much', 76)]"
      ]
     },
     "execution_count": 19,
     "metadata": {},
     "output_type": "execute_result"
    }
   ],
   "source": [
    "adj = [tup[0] for tup in pos_tag(\" \".join(df[\"reviews.cleanText\"]).split(\" \")) if tup[1] == 'JJ' or tup[1] =='JJR' or tup[1] == 'JJS']\n",
    "Counter(adj).most_common(10)     "
   ]
  },
  {
   "cell_type": "markdown",
   "metadata": {},
   "source": [
    "## Task 3"
   ]
  },
  {
   "cell_type": "markdown",
   "metadata": {},
   "source": [
    "What are the top ten most frequent words in reviews that do not recommend purchase\n",
    "of the Kindle? \n",
    "\n",
    "Here it makes sense to get rid of brand and product name such as \"kindle\" and \"amazon\" as they don't convey any special meaning"
   ]
  },
  {
   "cell_type": "code",
   "execution_count": 20,
   "metadata": {},
   "outputs": [
    {
     "data": {
      "text/plain": [
       "[('kindle', 20),\n",
       " (\"n't\", 17),\n",
       " ('amazon', 14),\n",
       " ('device', 14),\n",
       " ('voyage', 10),\n",
       " ('would', 10),\n",
       " ('light', 10),\n",
       " ('page', 9),\n",
       " ('buy', 8),\n",
       " ('one', 8)]"
      ]
     },
     "execution_count": 20,
     "metadata": {},
     "output_type": "execute_result"
    }
   ],
   "source": [
    "df_false = df[df['reviews.doRecommend'] == False]\n",
    "Counter(\" \".join(df_false[\"reviews.cleanText\"]).split()).most_common(10)"
   ]
  },
  {
   "cell_type": "markdown",
   "metadata": {},
   "source": [
    "## Task 4"
   ]
  },
  {
   "cell_type": "markdown",
   "metadata": {},
   "source": [
    "### Random Forest Classifier"
   ]
  },
  {
   "cell_type": "code",
   "execution_count": 21,
   "metadata": {},
   "outputs": [
    {
     "data": {
      "image/png": "[encoded data removed]",
      "text/plain": [
       "<Figure size 432x288 with 1 Axes>"
      ]
     },
     "metadata": {
      "needs_background": "light"
     },
     "output_type": "display_data"
    },
    {
     "name": "stdout",
     "output_type": "stream",
     "text": [
      "Stratifying data while splitting of Train and Test\n",
      "\n",
      "Training Set has 449 Positive Labels and 141 Negative Labels\n",
      "Test Set has 193 Positive Labels and 61 Negative Labels\n",
      "\n",
      "              precision    recall  f1-score   support\n",
      "\n",
      "           0       0.94      0.28      0.43        61\n",
      "           1       0.81      0.99      0.90       193\n",
      "\n",
      "    accuracy                           0.82       254\n",
      "   macro avg       0.88      0.64      0.66       254\n",
      "weighted avg       0.84      0.82      0.78       254\n",
      "\n",
      "ROC AUC Score: 0.7478977320988702\n",
      "Train accuracy of model (R^2) 1.0\n",
      "Test accuracy of model (R^2) 0.82\n"
     ]
    }
   ],
   "source": [
    "from sklearn.feature_extraction.text import TfidfVectorizer\n",
    "tfidf = TfidfVectorizer(max_df=0.7)\n",
    "tfidf_features = tfidf.fit_transform(df[\"reviews.cleanText\"])\n",
    "\n",
    "\n",
    "# Binarising Output column\n",
    "df[\"sentiment_class\"] = df[\"reviews.rating\"].apply(lambda x: 1 if x==5 else 0)\n",
    "plt.figure(figsize= (6,4))\n",
    "sns.countplot(df[\"sentiment_class\"], )\n",
    "plt.title('Class Imbalance')\n",
    "plt.show()\n",
    "\n",
    "# Random Forest Classifier\n",
    "from sklearn.model_selection import train_test_split\n",
    "from sklearn.ensemble import RandomForestClassifier\n",
    "from sklearn import metrics\n",
    "from sklearn.metrics import classification_report, confusion_matrix, accuracy_score, roc_auc_score, roc_curve\n",
    "\n",
    "X_train, X_test, y_train, y_test = train_test_split(tfidf_features, df[\"sentiment_class\"], stratify=df[\"sentiment_class\"], test_size=0.3, random_state=1)\n",
    "\n",
    "print(\"Stratifying data while splitting of Train and Test\\n\")\n",
    "print(\"Training Set has {} Positive Labels and {} Negative Labels\".format(sum(y_train), len(y_train) - sum(y_train)))\n",
    "print(\"Test Set has {} Positive Labels and {} Negative Labels\".format(sum(y_test), len(y_test) - sum(y_test)))\n",
    "print()\n",
    "\n",
    "rf = RandomForestClassifier(n_estimators=1000)\n",
    "rf.fit(X_train, y_train)\n",
    "y_pred = rf.predict(X_test)\n",
    "y_pred_proba = rf.predict_proba(X_test)\n",
    "print(classification_report(y_test , y_pred))\n",
    "\n",
    "print(\"ROC AUC Score: {}\".format(roc_auc_score(y_test, y_pred_proba[:, -1])))\n",
    "\n",
    "\n",
    "print(\"Train accuracy of model (R^2)\" ,str(rf.score(X_train, y_train) ))\n",
    "print(\"Test accuracy of model (R^2)\" ,str(np.round(rf.score(X_test, y_test),2 )))"
   ]
  },
  {
   "cell_type": "markdown",
   "metadata": {},
   "source": [
    "### Confusion Matrix"
   ]
  },
  {
   "cell_type": "code",
   "execution_count": 22,
   "metadata": {},
   "outputs": [
    {
     "name": "stdout",
     "output_type": "stream",
     "text": [
      "Predicted   0    1  All\n",
      "Actual                 \n",
      "0          17   44   61\n",
      "1           1  192  193\n",
      "All        18  236  254\n"
     ]
    }
   ],
   "source": [
    "print(pd.crosstab(y_test, y_pred, rownames=['Actual'], colnames=['Predicted'], margins=True))"
   ]
  },
  {
   "cell_type": "code",
   "execution_count": 23,
   "metadata": {},
   "outputs": [
    {
     "data": {
      "text/plain": [
       "<matplotlib.legend.Legend at 0x7fbcebd5e050>"
      ]
     },
     "execution_count": 23,
     "metadata": {},
     "output_type": "execute_result"
    },
    {
     "data": {
      "image/png": "[encoded data removed]",
      "text/plain": [
       "<Figure size 432x288 with 1 Axes>"
      ]
     },
     "metadata": {
      "needs_background": "light"
     },
     "output_type": "display_data"
    }
   ],
   "source": [
    "false_pos_rate, true_pos_rate, proba = roc_curve(y_test, y_pred_proba[:, -1])\n",
    "plt.figure()\n",
    "plt.plot([0,1], [0,1], linestyle=\"--\") # plot random curve\n",
    "plt.plot(false_pos_rate, true_pos_rate, marker=\".\", label=f\"AUC = {roc_auc_score(y_test, y_pred_proba[:, -1])}\")\n",
    "plt.title(\"ROC Curve\")\n",
    "plt.ylabel(\"True Positive Rate\")\n",
    "plt.xlabel(\"False Positive Rate\")\n",
    "plt.legend(loc=\"lower right\")"
   ]
  },
  {
   "cell_type": "markdown",
   "metadata": {},
   "source": [
    "## Task 5"
   ]
  },
  {
   "cell_type": "markdown",
   "metadata": {},
   "source": [
    "Create a model that will predict when at least two customer will find a review helpful.\n",
    "Evaluate the accuracy of your model "
   ]
  },
  {
   "cell_type": "code",
   "execution_count": 24,
   "metadata": {},
   "outputs": [],
   "source": [
    "df[\"helpfulOrNot\"] = np.where(df[\"reviews.numHelpful\"] >=2 ,1 , 0) # 1 when numHelpful >=2 else 0"
   ]
  },
  {
   "cell_type": "code",
   "execution_count": 25,
   "metadata": {},
   "outputs": [],
   "source": [
    "# Converting tfidf into a dataFrame\n",
    "df_new = pd.DataFrame(tfidf_features.todense())\n",
    "\n",
    "# adding columns doRecommend and ratings as additinal features to the tfidf \n",
    "df_new['doRecommend'] = df['reviews.doRecommend'].apply(lambda x: int(x))\n",
    "df_new['rating'] = df['reviews.rating']"
   ]
  },
  {
   "cell_type": "code",
   "execution_count": 26,
   "metadata": {},
   "outputs": [
    {
     "data": {
      "image/png": "[encoded data removed]",
      "text/plain": [
       "<Figure size 432x288 with 1 Axes>"
      ]
     },
     "metadata": {
      "needs_background": "light"
     },
     "output_type": "display_data"
    }
   ],
   "source": [
    "plt.figure(figsize= (6,4))\n",
    "sns.countplot(df[\"helpfulOrNot\"], )\n",
    "plt.title('Class Imbalance')\n",
    "plt.show()"
   ]
  },
  {
   "cell_type": "code",
   "execution_count": 27,
   "metadata": {},
   "outputs": [
    {
     "name": "stdout",
     "output_type": "stream",
     "text": [
      "Stratifying data while splitting of Train and Test\n",
      "\n",
      "Training Set has 142 Positive Labels and 448 Negative Labels\n",
      "Test Set has 55 Positive Labels and 199 Negative Labels\n",
      "\n",
      "              precision    recall  f1-score   support\n",
      "\n",
      "           0       0.85      1.00      0.92       199\n",
      "           1       1.00      0.35      0.51        55\n",
      "\n",
      "    accuracy                           0.86       254\n",
      "   macro avg       0.92      0.67      0.72       254\n",
      "weighted avg       0.88      0.86      0.83       254\n",
      "\n",
      "ROC AUC Score: 0.7582457743261763\n",
      "Train accuracy of model (R^2) 1.0\n",
      "Test accuracy of model (R^2) 0.86\n"
     ]
    }
   ],
   "source": [
    "#Random Forest using stritatified training and test data \n",
    "\n",
    "X_train, X_test, y_train, y_test = train_test_split(df_new, df[\"helpfulOrNot\"], stratify=df[\"sentiment_class\"], test_size=0.3, random_state=1)\n",
    "\n",
    "print(\"Stratifying data while splitting of Train and Test\\n\")\n",
    "print(\"Training Set has {} Positive Labels and {} Negative Labels\".format(sum(y_train), len(y_train) - sum(y_train)))\n",
    "print(\"Test Set has {} Positive Labels and {} Negative Labels\".format(sum(y_test), len(y_test) - sum(y_test)))\n",
    "print()\n",
    "\n",
    "\n",
    "rf = RandomForestClassifier(n_estimators=1000)\n",
    "rf.fit(X_train, y_train)\n",
    "y_pred = rf.predict(X_test)\n",
    "y_pred_proba = rf.predict_proba(X_test)\n",
    "print(classification_report(y_test , y_pred))\n",
    "\n",
    "print(\"ROC AUC Score: {}\".format(roc_auc_score(y_test, y_pred_proba[:, -1])))\n",
    "\n",
    "\n",
    "print(\"Train accuracy of model (R^2)\" ,str(rf.score(X_train, y_train) ))\n",
    "print(\"Test accuracy of model (R^2)\" ,str(np.round(rf.score(X_test, y_test),2 )))"
   ]
  },
  {
   "cell_type": "code",
   "execution_count": 28,
   "metadata": {},
   "outputs": [
    {
     "name": "stdout",
     "output_type": "stream",
     "text": [
      "Predicted    0   1  All\n",
      "Actual                 \n",
      "0          199   0  199\n",
      "1           36  19   55\n",
      "All        235  19  254\n"
     ]
    }
   ],
   "source": [
    "print(pd.crosstab(y_test, y_pred, rownames=['Actual'], colnames=['Predicted'], margins=True))"
   ]
  },
  {
   "cell_type": "code",
   "execution_count": 29,
   "metadata": {},
   "outputs": [
    {
     "data": {
      "text/plain": [
       "<matplotlib.legend.Legend at 0x7fbccee38210>"
      ]
     },
     "execution_count": 29,
     "metadata": {},
     "output_type": "execute_result"
    },
    {
     "data": {
      "image/png": "[encoded data removed]",
      "text/plain": [
       "<Figure size 432x288 with 1 Axes>"
      ]
     },
     "metadata": {
      "needs_background": "light"
     },
     "output_type": "display_data"
    }
   ],
   "source": [
    "false_pos_rate, true_pos_rate, proba = roc_curve(y_test, y_pred_proba[:, -1])\n",
    "plt.figure()\n",
    "plt.plot([0,1], [0,1], linestyle=\"--\") # plot random curve\n",
    "plt.plot(false_pos_rate, true_pos_rate, marker=\".\", label=f\"AUC = {roc_auc_score(y_test, y_pred_proba[:, -1])}\")\n",
    "plt.title(\"ROC Curve\")\n",
    "plt.ylabel(\"True Positive Rate\")\n",
    "plt.xlabel(\"False Positive Rate\")\n",
    "plt.legend(loc=\"lower right\")"
   ]
  }
 ],
 "metadata": {
  "kernelspec": {
   "display_name": "Python 3",
   "language": "python",
   "name": "python3"
  },
  "language_info": {
   "codemirror_mode": {
    "name": "ipython",
    "version": 3
   },
   "file_extension": ".py",
   "mimetype": "text/x-python",
   "name": "python",
   "nbconvert_exporter": "python",
   "pygments_lexer": "ipython3",
   "version": "3.7.4"
  }
 },
 "nbformat": 4,
 "nbformat_minor": 2
}
